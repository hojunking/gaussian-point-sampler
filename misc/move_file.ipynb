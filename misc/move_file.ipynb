{
 "cells": [
  {
   "cell_type": "code",
   "execution_count": 1,
   "id": "bb7388bf",
   "metadata": {},
   "outputs": [],
   "source": [
    "import os\n",
    "import shutil\n",
    "\n",
    "def move_boundary_files(source_root='scannet', target_root='boundary'):\n",
    "    splits = ['train', 'val']\n",
    "\n",
    "    for split in splits:\n",
    "        source_split_dir = os.path.join(source_root, split)\n",
    "        target_split_dir = os.path.join(target_root, split)\n",
    "\n",
    "        if not os.path.exists(source_split_dir):\n",
    "            print(f\"Source directory does not exist: {source_split_dir}\")\n",
    "            continue\n",
    "\n",
    "        scene_list = os.listdir(source_split_dir)\n",
    "        for scene in scene_list:\n",
    "            source_scene_dir = os.path.join(source_split_dir, scene)\n",
    "            target_scene_dir = os.path.join(target_split_dir, scene)\n",
    "            source_boundary_path = os.path.join(source_scene_dir, 'boundary.npy')\n",
    "            target_boundary_path = os.path.join(target_scene_dir, 'boundary.npy')\n",
    "\n",
    "            if not os.path.exists(source_boundary_path):\n",
    "                print(f\"[Skip] No boundary.npy in: {source_scene_dir}\")\n",
    "                continue\n",
    "\n",
    "            os.makedirs(target_scene_dir, exist_ok=True)\n",
    "            shutil.copy2(source_boundary_path, target_boundary_path)\n",
    "            print(f\"[Copied] {source_boundary_path} → {target_boundary_path}\")\n",
    "\n"
   ]
  },
  {
   "cell_type": "code",
   "execution_count": null,
   "id": "141b037d",
   "metadata": {},
   "outputs": [],
   "source": [
    "move_boundary_files(\n",
    "    '/home/knuvi/Desktop/song/point/data/scannet',\n",
    "    '/home/knuvi/Desktop/song/point/data/boundary/b_s07-o03',\n",
    "    )\n"
   ]
  }
 ],
 "metadata": {
  "kernelspec": {
   "display_name": "pt",
   "language": "python",
   "name": "python3"
  },
  "language_info": {
   "codemirror_mode": {
    "name": "ipython",
    "version": 3
   },
   "file_extension": ".py",
   "mimetype": "text/x-python",
   "name": "python",
   "nbconvert_exporter": "python",
   "pygments_lexer": "ipython3",
   "version": "3.8.19"
  }
 },
 "nbformat": 4,
 "nbformat_minor": 5
}
