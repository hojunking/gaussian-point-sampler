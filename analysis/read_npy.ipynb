{
 "cells": [
  {
   "cell_type": "code",
   "execution_count": null,
   "id": "96c000ef",
   "metadata": {},
   "outputs": [],
   "source": [
    "import os\n",
    "import numpy as np\n",
    "\n",
    "def inspect_npy_files(output_dir):\n",
    "    keys = ['coord', 'color', 'normal', 'segment20', 'segment200', 'instance', 'features']\n",
    "    for key in keys:\n",
    "        file_path = os.path.join(output_dir, f\"{key}.npy\")\n",
    "        if not os.path.exists(file_path):\n",
    "            print(f\"{file_path} does not exist.\")\n",
    "            continue\n",
    "        data = np.load(file_path)\n",
    "        print(f\"\\n=== {key}.npy ===\")\n",
    "        print(f\"Shape: {data.shape}\")\n",
    "        print(f\"Dtype: {data.dtype}\")\n",
    "        print(f\"Sample values:\\n{data[:5]}\")  # 첫 5개 행 출력\n",
    "\n",
    "# 예시 사용법\n",
    "output_dir = \"/home/knuvi/Desktop/song/point/data/scannet/val/scene0011_00\"  # 수정 필요\n",
    "inspect_npy_files(output_dir)\n"
   ]
  }
 ],
 "metadata": {
  "kernelspec": {
   "display_name": "pt",
   "language": "python",
   "name": "python3"
  },
  "language_info": {
   "name": "python",
   "version": "3.8.19"
  }
 },
 "nbformat": 4,
 "nbformat_minor": 5
}
