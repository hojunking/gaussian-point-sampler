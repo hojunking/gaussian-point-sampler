{
 "cells": [
  {
   "cell_type": "code",
   "execution_count": 1,
   "id": "96c000ef",
   "metadata": {},
   "outputs": [
    {
     "name": "stdout",
     "output_type": "stream",
     "text": [
      "\n",
      "=== coord.npy ===\n",
      "Shape: (237360, 3)\n",
      "Dtype: float32\n",
      "Sample values:\n",
      "[[2.5091114  0.4083811  0.14877559]\n",
      " [2.5156426  0.4059527  0.14168811]\n",
      " [2.5073788  0.4145141  0.14327997]\n",
      " [2.5004458  0.40534744 0.1462612 ]\n",
      " [2.5201747  0.47421882 0.15652634]]\n",
      "\n",
      "=== color.npy ===\n",
      "Shape: (237360, 3)\n",
      "Dtype: uint8\n",
      "Sample values:\n",
      "[[35 33 38]\n",
      " [34 32 39]\n",
      " [40 35 43]\n",
      " [35 33 38]\n",
      " [31 30 31]]\n",
      "\n",
      "=== normal.npy ===\n",
      "Shape: (237360, 3)\n",
      "Dtype: float32\n",
      "Sample values:\n",
      "[[ 0.19109516  0.92176497  0.3371149 ]\n",
      " [ 0.35799062  0.9311391   0.06885417]\n",
      " [ 0.59007823 -0.42843354  0.684249  ]\n",
      " [ 0.2563957   0.11805225  0.9592446 ]\n",
      " [ 0.819725   -0.5543586   0.14370042]]\n",
      "\n",
      "=== segment20.npy ===\n",
      "Shape: (237360,)\n",
      "Dtype: int64\n",
      "Sample values:\n",
      "[14 14 14 14 14]\n",
      "\n",
      "=== segment200.npy ===\n",
      "Shape: (237360,)\n",
      "Dtype: int64\n",
      "Sample values:\n",
      "[23 23 23 23 23]\n",
      "\n",
      "=== instance.npy ===\n",
      "Shape: (237360,)\n",
      "Dtype: int64\n",
      "Sample values:\n",
      "[27 27 27 27 27]\n",
      "/home/knuvi/Desktop/song/point/data/scannet/val/scene0011_00/features.npy does not exist.\n",
      "\n",
      "=== boundary.npy ===\n",
      "Shape: (237360,)\n",
      "Dtype: int64\n",
      "Sample values:\n",
      "[0 0 0 0 0]\n"
     ]
    }
   ],
   "source": [
    "import os\n",
    "import numpy as np\n",
    "\n",
    "def inspect_npy_files(output_dir):\n",
    "    keys = ['coord', 'color', 'normal', 'segment20', 'segment200', 'instance', 'features', 'boundary']\n",
    "    for key in keys:\n",
    "        file_path = os.path.join(output_dir, f\"{key}.npy\")\n",
    "        if not os.path.exists(file_path):\n",
    "            print(f\"{file_path} does not exist.\")\n",
    "            continue\n",
    "        data = np.load(file_path)\n",
    "        print(f\"\\n=== {key}.npy ===\")\n",
    "        print(f\"Shape: {data.shape}\")\n",
    "        print(f\"Dtype: {data.dtype}\")\n",
    "        print(f\"Sample values:\\n{data[:5]}\")  # 첫 5개 행 출력\n",
    "\n",
    "# 예시 사용법\n",
    "output_dir = \"/home/knuvi/Desktop/song/point/data/scannet/val/scene0011_00\"  # 수정 필요\n",
    "inspect_npy_files(output_dir)\n"
   ]
  },
  {
   "cell_type": "code",
   "execution_count": 3,
   "id": "5d2572f8",
   "metadata": {},
   "outputs": [
    {
     "name": "stdout",
     "output_type": "stream",
     "text": [
      "[INFO] Loaded file: /home/knuvi/Desktop/song/point/exp/scannet/scannet_tf_b-base_3dgs/result/scene0011_00_pred.npy\n",
      "- type: <class 'numpy.ndarray'>\n",
      "- dtype: int64\n",
      "- shape: (237360,)\n",
      "- sample (first 5 entries):\n",
      "[14 14 14 14 14]\n"
     ]
    }
   ],
   "source": [
    "import numpy as np\n",
    "def inspect_npy_file(npy_path, sample_size=5):\n",
    "    \"\"\"\n",
    "    Inspect the contents of a .npy file:\n",
    "    - shows data type\n",
    "    - shows shape\n",
    "    - prints a sample of the data\n",
    "    \"\"\"\n",
    "    try:\n",
    "        data = np.load(npy_path)\n",
    "        print(f\"[INFO] Loaded file: {npy_path}\")\n",
    "        print(f\"- type: {type(data)}\")\n",
    "        \n",
    "        if isinstance(data, np.ndarray):\n",
    "            print(f\"- dtype: {data.dtype}\")\n",
    "            print(f\"- shape: {data.shape}\")\n",
    "            \n",
    "            # Show a sample of the data\n",
    "            if data.ndim == 1 or data.ndim == 2:\n",
    "                print(f\"- sample (first {sample_size} entries):\\n{data[:sample_size]}\")\n",
    "            else:\n",
    "                print(f\"- sample (first {sample_size} elements along axis 0):\\n{data[:sample_size]}\")\n",
    "        else:\n",
    "            # in case it is something saved with allow_pickle=True\n",
    "            print(f\"- contents:\\n{data}\")\n",
    "    except Exception as e:\n",
    "        print(f\"[ERROR] Could not read {npy_path} -> {e}\")\n",
    "\n",
    "\n",
    "npy_file = \"/home/knuvi/Desktop/song/point/exp/scannet/scannet_tf_b-base_3dgs/result/scene0011_00_pred.npy\"\n",
    "inspect_npy_file(npy_file)"
   ]
  },
  {
   "cell_type": "code",
   "execution_count": null,
   "id": "820e9252",
   "metadata": {},
   "outputs": [],
   "source": []
  }
 ],
 "metadata": {
  "kernelspec": {
   "display_name": "pt",
   "language": "python",
   "name": "python3"
  },
  "language_info": {
   "codemirror_mode": {
    "name": "ipython",
    "version": 3
   },
   "file_extension": ".py",
   "mimetype": "text/x-python",
   "name": "python",
   "nbconvert_exporter": "python",
   "pygments_lexer": "ipython3",
   "version": "3.8.19"
  }
 },
 "nbformat": 4,
 "nbformat_minor": 5
}
