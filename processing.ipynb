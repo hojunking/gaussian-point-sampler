{
 "cells": [
  {
   "cell_type": "code",
   "execution_count": 1,
   "metadata": {},
   "outputs": [
    {
     "name": "stdout",
     "output_type": "stream",
     "text": [
      "Jupyter environment detected. Enabling Open3D WebVisualizer.\n",
      "[Open3D INFO] WebRTC GUI backend enabled.\n",
      "[Open3D INFO] WebRTCWindowSystem: HTTP handshake server disabled.\n"
     ]
    }
   ],
   "source": [
    "import numpy as np\n",
    "from plyfile import PlyData, PlyElement\n",
    "import open3d as o3d\n",
    "import os"
   ]
  },
  {
   "cell_type": "code",
   "execution_count": null,
   "metadata": {},
   "outputs": [
    {
     "name": "stdout",
     "output_type": "stream",
     "text": [
      "Converted R range: 0 - 255\n",
      "Converted G range: 0 - 255\n",
      "Converted B range: 0 - 255\n",
      "Merged and processed point cloud saved to /home/knuvi/Desktop/song/gaussian-point-sampler/dataset/scene0011_00/merged_point_cloud.ply\n"
     ]
    }
   ],
   "source": [
    "def convert_3dgs_colors_to_rgb(vertex_data):\n",
    "    \"\"\"3DGS 색상 값을 uint8 (0~255)로 변환.\"\"\"\n",
    "    f_dc_0 = vertex_data['f_dc_0']\n",
    "    f_dc_1 = vertex_data['f_dc_1']\n",
    "    f_dc_2 = vertex_data['f_dc_2']\n",
    "    \n",
    "    # 각 채널별 정규화\n",
    "    f_dc_0_norm = (f_dc_0 - f_dc_0.min()) / (f_dc_0.max() - f_dc_0.min())\n",
    "    f_dc_1_norm = (f_dc_1 - f_dc_1.min()) / (f_dc_1.max() - f_dc_1.min())\n",
    "    f_dc_2_norm = (f_dc_2 - f_dc_2.min()) / (f_dc_2.max() - f_dc_2.min())\n",
    "    \n",
    "    red = (f_dc_0_norm * 255).astype(np.uint8)\n",
    "    green = (f_dc_1_norm * 255).astype(np.uint8)\n",
    "    blue = (f_dc_2_norm * 255).astype(np.uint8)\n",
    "    \n",
    "    print(f\"Converted R range: {red.min()} - {red.max()}\")\n",
    "    print(f\"Converted G range: {green.min()} - {green.max()}\")\n",
    "    print(f\"Converted B range: {blue.min()} - {blue.max()}\")\n",
    "    \n",
    "    return red, green, blue\n",
    "\n",
    "def merge_and_process_point_clouds(scene_id, data_root):\n",
    "    \"\"\"\n",
    "    3DGS와 Mesh Point Cloud를 병합하고, 중복 점 제거, Outlier 제거 후 PLY로 저장.\n",
    "    \n",
    "    Args:\n",
    "        scene_id (str): Scene ID (예: scene0011_00).\n",
    "        data_root (str): 데이터 루트 경로.\n",
    "    \"\"\"\n",
    "    # 경로 설정\n",
    "    mesh_ply = f\"{data_root}/{scene_id}/{scene_id}_vh_clean_2.ply\"\n",
    "    point_3dgs_ply = f\"{data_root}/{scene_id}/point_cloud.ply\"\n",
    "    output_ply = f\"{data_root}/{scene_id}/merged_point_cloud.ply\"\n",
    "\n",
    "    # 출력 디렉터리 생성\n",
    "    os.makedirs(os.path.dirname(output_ply), exist_ok=True)\n",
    "\n",
    "    # 1. Mesh Point Cloud 로드\n",
    "    pcd_mesh = o3d.io.read_point_cloud(mesh_ply)\n",
    "    points_mesh = np.asarray(pcd_mesh.points)\n",
    "    colors_mesh = np.asarray(pcd_mesh.colors) * 255  # 0~1 → 0~255로 변환\n",
    "    colors_mesh = colors_mesh.astype(np.uint8)\n",
    "\n",
    "    # 2. 3DGS Point Cloud 로드 및 색상 변환\n",
    "    with open(point_3dgs_ply, 'rb') as f:\n",
    "        ply_data_3dgs = PlyData.read(f)\n",
    "    vertex_data_3dgs = ply_data_3dgs['vertex']\n",
    "    \n",
    "    points_3dgs = np.stack([vertex_data_3dgs['x'], vertex_data_3dgs['y'], vertex_data_3dgs['z']], axis=-1)\n",
    "    red, green, blue = convert_3dgs_colors_to_rgb(vertex_data_3dgs)\n",
    "    colors_3dgs = np.stack([red, green, blue], axis=-1)\n",
    "\n",
    "    # 3. 중복 점 제거 (Mesh Point Cloud의 점 제거)\n",
    "    # 3DGS 점과 Mesh 점 간의 중복 확인\n",
    "    tree = o3d.geometry.KDTreeFlann(pcd_mesh)\n",
    "    indices_to_remove = []\n",
    "    \n",
    "    for i, point in enumerate(points_3dgs):\n",
    "        [k, idx, _] = tree.search_knn_vector_3d(point, 1)\n",
    "        if k > 0 and np.linalg.norm(points_mesh[idx[0]] - point) < 1e-6:  # 중복 점 판단 기준\n",
    "            indices_to_remove.append(idx[0])\n",
    "    \n",
    "    # 중복 점 제거 (Mesh에서 제거)\n",
    "    indices_to_keep = np.setdiff1d(np.arange(len(points_mesh)), indices_to_remove)\n",
    "    points_mesh = points_mesh[indices_to_keep]\n",
    "    colors_mesh = colors_mesh[indices_to_keep]\n",
    "\n",
    "    # 4. 병합\n",
    "    points_merged = np.vstack((points_mesh, points_3dgs))\n",
    "    colors_merged = np.vstack((colors_mesh, colors_3dgs))\n",
    "\n",
    "    # 5. Open3D Point Cloud 객체 생성\n",
    "    merged_pcd = o3d.geometry.PointCloud()\n",
    "    merged_pcd.points = o3d.utility.Vector3dVector(points_merged)\n",
    "    merged_pcd.colors = o3d.utility.Vector3dVector(colors_merged / 255.0)  # 0~255 → 0~1로 변환 (Open3D 요구사항)\n",
    "\n",
    "    # 6. Outlier 제거 (Statistical Outlier Removal)\n",
    "    merged_pcd, _ = merged_pcd.remove_statistical_outlier(nb_neighbors=20, std_ratio=2.0)\n",
    "\n",
    "    # 7. PLY 파일로 저장\n",
    "    points_final = np.asarray(merged_pcd.points)\n",
    "    colors_final = (np.asarray(merged_pcd.colors) * 255).astype(np.uint8)  # 0~1 → 0~255로 변환\n",
    "    \n",
    "    vertex_array = np.array(\n",
    "        [(points_final[i, 0], points_final[i, 1], points_final[i, 2],\n",
    "          colors_final[i, 0], colors_final[i, 1], colors_final[i, 2])\n",
    "         for i in range(len(points_final))],\n",
    "        dtype=[\n",
    "            ('x', 'f4'), ('y', 'f4'), ('z', 'f4'),\n",
    "            ('red', 'u1'), ('green', 'u1'), ('blue', 'u1')\n",
    "        ]\n",
    "    )\n",
    "    \n",
    "    vertex_element = PlyElement.describe(vertex_array, 'vertex')\n",
    "    new_ply = PlyData([vertex_element], text=False)3\n",
    "    new_ply.write(output_ply)\n",
    "    print(f\"Merged and processed point cloud saved to {output_ply}\")\n",
    "\n",
    "# 사용 예제\n",
    "data_root = \"/home/knuvi/Desktop/song/gaussian-point-sampler/dataset\"\n",
    "scene_id = \"scene0011_00\"\n",
    "merge_and_process_point_clouds(scene_id, data_root)"
   ]
  },
  {
   "cell_type": "code",
   "execution_count": null,
   "metadata": {},
   "outputs": [],
   "source": []
  }
 ],
 "metadata": {
  "kernelspec": {
   "display_name": "pt",
   "language": "python",
   "name": "python3"
  },
  "language_info": {
   "codemirror_mode": {
    "name": "ipython",
    "version": 3
   },
   "file_extension": ".py",
   "mimetype": "text/x-python",
   "name": "python",
   "nbconvert_exporter": "python",
   "pygments_lexer": "ipython3",
   "version": "3.8.19"
  }
 },
 "nbformat": 4,
 "nbformat_minor": 2
}
