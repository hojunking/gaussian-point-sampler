{
 "cells": [
  {
   "cell_type": "code",
   "execution_count": 3,
   "id": "c94aea70",
   "metadata": {},
   "outputs": [],
   "source": [
    "import os\n",
    "import numpy as np\n",
    "\n",
    "def calculate_average_coord_points(data_name):\n",
    "    \"\"\"\n",
    "    Calculate the average number of points based on coord.npy files across all scenes in train and val folders.\n",
    "    \n",
    "    Args:\n",
    "        data_name (str): The name of the data directory (e.g., 'scannet').\n",
    "    \n",
    "    Returns:\n",
    "        tuple: (average_points, total_scenes) - Average number of points and total number of scenes.\n",
    "    \"\"\"\n",
    "\n",
    "    # Base directory\n",
    "    base_dir = os.path.join(\"/home/knuvi/Desktop/song/point/data\", data_name)\n",
    "    \n",
    "    print(f\"Processing data in directory: {base_dir}\")\n",
    "    # Check if directory exists\n",
    "    if not os.path.exists(base_dir):\n",
    "        raise ValueError(f\"Directory {base_dir} does not exist.\")\n",
    "    \n",
    "    # Initialize total points and scene count\n",
    "    total_points = 0\n",
    "    total_scenes = 0\n",
    "    \n",
    "    # Process train folder\n",
    "    train_dir = os.path.join(base_dir, \"train\")\n",
    "    if os.path.exists(train_dir):\n",
    "        for root, _, files in os.walk(train_dir):\n",
    "            if \"coord.npy\" in files:\n",
    "                file_path = os.path.join(root, \"coord.npy\")\n",
    "                points = np.load(file_path)\n",
    "                total_points += points.shape[0]  # Number of points (first dimension)\n",
    "                total_scenes += 1\n",
    "    \n",
    "    # Process val folder\n",
    "    val_dir = os.path.join(base_dir, \"val\")\n",
    "    if os.path.exists(val_dir):\n",
    "        for root, _, files in os.walk(val_dir):\n",
    "            if \"coord.npy\" in files:\n",
    "                file_path = os.path.join(root, \"coord.npy\")\n",
    "                points = np.load(file_path)\n",
    "                total_points += points.shape[0]  # Number of points (first dimension)\n",
    "                total_scenes += 1\n",
    "    \n",
    "    # Calculate average\n",
    "    if total_scenes == 0:\n",
    "        raise ValueError(\"No coord.npy files found in train or val folders.\")\n",
    "    \n",
    "    average_points = total_points / total_scenes\n",
    "    return average_points, total_scenes"
   ]
  },
  {
   "cell_type": "code",
   "execution_count": 6,
   "id": "eea31b2a",
   "metadata": {},
   "outputs": [
    {
     "name": "stdout",
     "output_type": "stream",
     "text": [
      "Processing data in directory: /home/knuvi/Desktop/song/point/data/vox004_scale06_opacity\n",
      "Total number of scenes: 1513\n",
      "Average number of points across all scenes: 179353.10\n"
     ]
    }
   ],
   "source": [
    "data_name = \"vox004_scale06_opacity\"  # Replace with your data_name\n",
    "try:\n",
    "    avg_points, total_scenes = calculate_average_coord_points(data_name)\n",
    "    print(f\"Total number of scenes: {total_scenes}\")\n",
    "    print(f\"Average number of points across all scenes: {avg_points:.2f}\")\n",
    "except ValueError as e:\n",
    "    print(f\"Error: {e}\")"
   ]
  },
  {
   "cell_type": "code",
   "execution_count": null,
   "id": "3246a5b3",
   "metadata": {},
   "outputs": [],
   "source": []
  }
 ],
 "metadata": {
  "kernelspec": {
   "display_name": "pt",
   "language": "python",
   "name": "python3"
  },
  "language_info": {
   "codemirror_mode": {
    "name": "ipython",
    "version": 3
   },
   "file_extension": ".py",
   "mimetype": "text/x-python",
   "name": "python",
   "nbconvert_exporter": "python",
   "pygments_lexer": "ipython3",
   "version": "3.8.19"
  }
 },
 "nbformat": 4,
 "nbformat_minor": 5
}
