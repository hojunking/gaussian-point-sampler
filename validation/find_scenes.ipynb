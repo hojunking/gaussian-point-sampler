{
 "cells": [
  {
   "cell_type": "code",
   "execution_count": null,
   "metadata": {},
   "outputs": [],
   "source": [
    "import os\n",
    "\n",
    "def get_scene_list_from_txt(txt_path):\n",
    "    with open(txt_path, 'r') as f:\n",
    "        scenes = [line.strip() for line in f if line.strip()]\n",
    "    return set(scenes)\n",
    "\n",
    "def get_existing_scenes(data_dir):\n",
    "    # 폴더 이름이 scene0000_00 형태인 폴더만 필터링\n",
    "    return set([d for d in os.listdir(data_dir) if os.path.isdir(os.path.join(data_dir, d)) and d.startswith(\"scene\")])\n",
    "\n",
    "def find_missing_scenes(txt_path, data_dir):\n",
    "    expected_scenes = get_scene_list_from_txt(txt_path)\n",
    "    actual_scenes = get_existing_scenes(data_dir)\n",
    "    \n",
    "    missing_scenes = sorted(list(expected_scenes - actual_scenes))\n",
    "    print(f\"[{os.path.basename(txt_path).replace('.txt', '')}] 누락된 scene 수: {len(missing_scenes)}\")\n",
    "    for scene in missing_scenes:\n",
    "        print(f\" - {scene}\")\n",
    "    return missing_scenes\n",
    "\n",
    "# 경로 설정\n",
    "train_txt_path = \"/home/knuvi/Desktop/song/gaussian-point-sampler/meta/scannetv2_train.txt\"\n",
    "val_txt_path = \"/home/knuvi/Desktop/song/gaussian-point-sampler/meta/scannetv2_val.txt\"\n",
    "train_data_dir = \"/home/knuvi/Desktop/song/Pointcept/data/fusion_pd00005_scale02_opa07_all/train\"  # 예: \"/home/user/data/scannet/train\"\n",
    "val_data_dir = \"/home/knuvi/Desktop/song/Pointcept/data/fusion_pd00005_scale02_opa07_all/val\"\n",
    "\n",
    "# 실행\n",
    "print(\"🔍 Train Split 확인:\")\n",
    "missing_train = find_missing_scenes(train_txt_path, train_data_dir)\n",
    "\n",
    "print(\"\\n🔍 Validation Split 확인:\")\n",
    "missing_val = find_missing_scenes(val_txt_path, val_data_dir)\n"
   ]
  }
 ],
 "metadata": {
  "kernelspec": {
   "display_name": "pt",
   "language": "python",
   "name": "python3"
  },
  "language_info": {
   "name": "python",
   "version": "3.8.19"
  }
 },
 "nbformat": 4,
 "nbformat_minor": 2
}
